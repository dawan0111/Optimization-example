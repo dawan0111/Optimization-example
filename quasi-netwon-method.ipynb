{
 "cells": [
  {
   "cell_type": "markdown",
   "id": "9fffe6f3-1384-4bfc-a608-e800b19dc095",
   "metadata": {},
   "source": [
    "# Quasi newton methods (Broyden's)"
   ]
  },
  {
   "cell_type": "code",
   "execution_count": 181,
   "id": "daca0b62-7072-49d8-a9a2-85e624679abb",
   "metadata": {},
   "outputs": [],
   "source": [
    "import numpy as np"
   ]
  },
  {
   "cell_type": "code",
   "execution_count": 182,
   "id": "a9d35300-87bb-499d-8e64-746a3fa2d6f9",
   "metadata": {},
   "outputs": [],
   "source": [
    "def f(x):\n",
    "    return np.array(\n",
    "        [x[0] + 0.5 * (x[0] - x[1])**3 - 1.0, 0.5 * (x[1] - x[0])**3 + x[1]]\n",
    "    ).reshape(2, 1)\n",
    " \n",
    "def jacobian():\n",
    "    return np.array([[1,2],\n",
    "             [2, 16]])\n",
    "\n",
    "iteration = 100"
   ]
  },
  {
   "cell_type": "code",
   "execution_count": 183,
   "id": "a34bfbe4-c3a1-4618-b5c0-b4913fe93096",
   "metadata": {},
   "outputs": [],
   "source": [
    "x_p = np.array([0, 0]).reshape(2, 1)\n",
    "f_p = f(x_p)\n",
    "B_0 = jacobian()\n",
    "H_0 = np.linalg.inv(B_0)"
   ]
  },
  {
   "cell_type": "code",
   "execution_count": 184,
   "id": "48ed7ed5-d630-469a-84a6-67d37137bdba",
   "metadata": {},
   "outputs": [],
   "source": [
    "x_k = x_p - H_0 @ f_p\n",
    "f_k = f(x_k)\n",
    "H_p = H_0"
   ]
  },
  {
   "cell_type": "code",
   "execution_count": 185,
   "id": "1e7b08b2-c1fe-4c68-ba2d-a0c15161a5ad",
   "metadata": {},
   "outputs": [
    {
     "name": "stdout",
     "output_type": "stream",
     "text": [
      "[[0.84113093]\n",
      " [0.1587773 ]] [[-1.49309853e-05]\n",
      " [-7.68407587e-05]]\n"
     ]
    }
   ],
   "source": [
    "for i in range(iteration):\n",
    "    s_k = x_k - x_p\n",
    "    y_k = f(x_k) - f(x_p)\n",
    "    \n",
    "    H_k = H_p + (s_k - H_p @ y_k) @ (s_k.T @ H_k) / (s_k.T @ H_p @ y_k)\n",
    "    x_kp = x_k - H_k @ f(x_k)\n",
    "    \n",
    "    x_p = x_k\n",
    "    x_k = x_kp\n",
    "    H_p = H_k\n",
    "\n",
    "print(x_k, f(x_k))"
   ]
  },
  {
   "cell_type": "code",
   "execution_count": 106,
   "id": "24149483-bfa2-4d72-bda3-fabaecca4339",
   "metadata": {},
   "outputs": [],
   "source": [
    "from scipy import optimize"
   ]
  },
  {
   "cell_type": "code",
   "execution_count": 113,
   "id": "521e90fa-fd99-4c51-9355-c7792de0667f",
   "metadata": {},
   "outputs": [
    {
     "data": {
      "text/plain": [
       "array([0.84116396, 0.15883641])"
      ]
     },
     "execution_count": 113,
     "metadata": {},
     "output_type": "execute_result"
    }
   ],
   "source": [
    "def fun(x):\n",
    "    return [x[0]  + 0.5 * (x[0] - x[1])**3 - 1.0,\n",
    "            0.5 * (x[1] - x[0])**3 + x[1]]\n",
    "\n",
    "sol = optimize.broyden1(fun, [0, 0])\n",
    "sol"
   ]
  },
  {
   "cell_type": "code",
   "execution_count": null,
   "id": "a958d757-cabf-4a16-9df2-e21b06228baf",
   "metadata": {},
   "outputs": [],
   "source": []
  }
 ],
 "metadata": {
  "kernelspec": {
   "display_name": "Python 3 (ipykernel)",
   "language": "python",
   "name": "python3"
  },
  "language_info": {
   "codemirror_mode": {
    "name": "ipython",
    "version": 3
   },
   "file_extension": ".py",
   "mimetype": "text/x-python",
   "name": "python",
   "nbconvert_exporter": "python",
   "pygments_lexer": "ipython3",
   "version": "3.11.5"
  }
 },
 "nbformat": 4,
 "nbformat_minor": 5
}
