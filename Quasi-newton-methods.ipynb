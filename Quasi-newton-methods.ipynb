{
 "cells": [
  {
   "cell_type": "markdown",
   "id": "c17a090c-c755-42d9-a19c-6b2984218e24",
   "metadata": {},
   "source": [
    "# Quasi newton methods"
   ]
  },
  {
   "cell_type": "code",
   "execution_count": 1,
   "id": "8bb7e7ae-2132-4a55-b781-5998c9abdfce",
   "metadata": {},
   "outputs": [],
   "source": [
    "import numpy as np"
   ]
  },
  {
   "cell_type": "code",
   "execution_count": 14,
   "id": "5bef598c-53f6-4702-8a4e-5342822e2ee0",
   "metadata": {},
   "outputs": [],
   "source": [
    "A = np.array([1, 2, 3, 1]).reshape(2, 2)\n",
    "x = np.array([3, 5]).reshape(2, 1)\n",
    "n = 2 + np.random.rand(2,1) * 3\n",
    "z = A @ x + n\n",
    "\n",
    "x_0 = x\n",
    "y_0 = A @ x\n",
    "B_0 = A\n",
    "B = B_0\n",
    "H_0 = np.linalg.inv(B_0)\n",
    "iter = 100"
   ]
  },
  {
   "cell_type": "markdown",
   "id": "22a20362-b168-4dfc-a8e3-05ad52e37403",
   "metadata": {},
   "source": [
    "## First iter"
   ]
  },
  {
   "cell_type": "code",
   "execution_count": 19,
   "id": "b2bd769e-0aac-4c7f-bb05-a8ee9fcdc068",
   "metadata": {},
   "outputs": [
    {
     "name": "stdout",
     "output_type": "stream",
     "text": [
      "[[0.02127242]]\n"
     ]
    }
   ],
   "source": [
    "x_1 = x_0 - H @ z\n",
    "y_1 = A @ x_1\n",
    "\n",
    "s_0 = x_0 - x_1\n",
    "y_d_0 = y_0 - y_1\n",
    "H_1 = H_0 + (s_0 - H_0 @ y_d_0) @ (s_0.transpose() @ H_0) * np.linalg.inv(s_0.transpose() @ H_0 @ y_d_0)\n",
    "\n",
    "x_2 = x_1 - H_1 @ y_1\n",
    "# print(x_1, y_1)"
   ]
  },
  {
   "cell_type": "code",
   "execution_count": null,
   "id": "f2bb7699-1b52-44c7-8fa1-17d2796dd509",
   "metadata": {},
   "outputs": [],
   "source": []
  }
 ],
 "metadata": {
  "kernelspec": {
   "display_name": "Python 3 (ipykernel)",
   "language": "python",
   "name": "python3"
  },
  "language_info": {
   "codemirror_mode": {
    "name": "ipython",
    "version": 3
   },
   "file_extension": ".py",
   "mimetype": "text/x-python",
   "name": "python",
   "nbconvert_exporter": "python",
   "pygments_lexer": "ipython3",
   "version": "3.11.5"
  }
 },
 "nbformat": 4,
 "nbformat_minor": 5
}
