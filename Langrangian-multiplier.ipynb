{
 "cells": [
  {
   "cell_type": "markdown",
   "id": "918b03ac-86a0-4608-80a2-7946cb30deaf",
   "metadata": {},
   "source": [
    "# Langrangian-multiplier"
   ]
  },
  {
   "cell_type": "code",
   "execution_count": 87,
   "id": "8e6d81ad-ab13-4432-8735-8c1b137fed14",
   "metadata": {},
   "outputs": [],
   "source": [
    "import numpy as np"
   ]
  },
  {
   "cell_type": "code",
   "execution_count": 90,
   "id": "31421b27-5960-4059-a44e-16d8f5b66078",
   "metadata": {},
   "outputs": [],
   "source": [
    "x_0 = np.array([0, 0, 0, 0]).reshape(4, 1)\n",
    "z = np.array([2, 2]).reshape(2, 1)\n",
    "A = np.array([2, 4, 0, 2, 3, 0, 6, 0]).reshape(2, 4)\n",
    "iteration = 100\n",
    "\n",
    "def f(x):\n",
    "    return A @ x\n",
    "\n",
    "def objective_function(x):\n",
    "    return np.linalg.norm(x, 2) ** 2\n",
    "\n",
    "def gradient_objective_function(x):\n",
    "    return (x * 2).T\n",
    "\n",
    "def hassian_objective_function(x):\n",
    "    return np.array([\n",
    "        2, 0, 0, 0,\n",
    "        0, 2, 0, 0,\n",
    "        0, 0, 2, 0,\n",
    "        0, 0, 0, 2\n",
    "    ]).reshape(4, 4)\n",
    "\n",
    "def lam_f(x):\n",
    "    return z - A @ x\n",
    "\n",
    "def gradient_langrangian(x, z):\n",
    "    return gradient_objective_function(x).T - A.T @ lam_f(x)"
   ]
  },
  {
   "cell_type": "code",
   "execution_count": 91,
   "id": "b2efe8b1-f379-41b8-b696-e44349acf040",
   "metadata": {},
   "outputs": [
    {
     "name": "stdout",
     "output_type": "stream",
     "text": [
      "[[2.]\n",
      " [2.]] 0.21839080459770116\n"
     ]
    }
   ],
   "source": [
    "x = x_0\n",
    "w = np.vstack((x_0, lam))\n",
    "\n",
    "for i in range(iteration):\n",
    "    a1 = np.hstack((hassian_objective_function(x), A.T * -1))\n",
    "    a2 = np.hstack((A * -1, np.zeros((2, 2))))\n",
    "\n",
    "    a_inv = np.linalg.inv(np.vstack((a1, a2)))\n",
    "    R = np.vstack((gradient_langrangian(x, z), lam_f(x)))\n",
    "    w_kp = w - a_inv @ R\n",
    "    w = w_kp\n",
    "    x = w[:4]\n",
    "\n",
    "print(f(x), objective_function(x))"
   ]
  }
 ],
 "metadata": {
  "kernelspec": {
   "display_name": "Python 3 (ipykernel)",
   "language": "python",
   "name": "python3"
  },
  "language_info": {
   "codemirror_mode": {
    "name": "ipython",
    "version": 3
   },
   "file_extension": ".py",
   "mimetype": "text/x-python",
   "name": "python",
   "nbconvert_exporter": "python",
   "pygments_lexer": "ipython3",
   "version": "3.11.5"
  }
 },
 "nbformat": 4,
 "nbformat_minor": 5
}
