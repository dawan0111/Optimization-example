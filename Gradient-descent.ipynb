{
 "cells": [
  {
   "cell_type": "markdown",
   "id": "9ff4d260-ba60-46ea-ade8-c8c1904cc009",
   "metadata": {},
   "source": [
    "# Gradient Descent"
   ]
  },
  {
   "cell_type": "code",
   "execution_count": 64,
   "id": "a0afea4f-9b02-4f02-a816-1057df02d2c9",
   "metadata": {},
   "outputs": [],
   "source": [
    "import numpy as np"
   ]
  },
  {
   "cell_type": "code",
   "execution_count": 65,
   "id": "2acde017-565a-442d-b521-bbdb4428fb22",
   "metadata": {},
   "outputs": [],
   "source": [
    "A = np.array([1, 0, 0, 1]).reshape(2, 2)\n",
    "x = np.array([3, 5]).reshape(2, 1)\n",
    "z = A @ x + (2 + np.random.rand(2,1) * 3)\n",
    "\n",
    "learning_rate = 0.1\n",
    "iter = 100"
   ]
  },
  {
   "cell_type": "markdown",
   "id": "8a7ae6ad-bf10-4367-9483-b0d4169f9de0",
   "metadata": {},
   "source": [
    "## Set objective function"
   ]
  },
  {
   "cell_type": "code",
   "execution_count": 66,
   "id": "84fe94a8-20fc-4b4d-9ff9-31f262a7ed3d",
   "metadata": {},
   "outputs": [],
   "source": [
    "def objective_function(x):\n",
    "    loss = (z - A @ x)\n",
    "    return loss.transpose() @ loss\n",
    "\n",
    "def gradient_objective_function(x):\n",
    "    return -2 * ((z - A @ x).transpose() @ A).transpose()"
   ]
  },
  {
   "cell_type": "markdown",
   "id": "88c41e59-1340-4841-9483-60c99b77d004",
   "metadata": {},
   "source": [
    "## Training"
   ]
  },
  {
   "cell_type": "code",
   "execution_count": 69,
   "id": "d8cb7624-98bd-4ae2-ad33-9ce05c26e519",
   "metadata": {},
   "outputs": [
    {
     "name": "stdout",
     "output_type": "stream",
     "text": [
      "before loss: [[26.75933102]]\n",
      "99 iter. loss: [[1.11038008e-18]]\n"
     ]
    }
   ],
   "source": [
    "x_ = x.copy()\n",
    "loss = objective_function(x_)\n",
    "print(\"before loss: {}\".format(loss))\n",
    "\n",
    "for i in range(iter):\n",
    "    x_ = x_ - learning_rate * gradient_objective_function(x_)\n",
    "    loss = objective_function(x_)\n",
    "    \n",
    "print(\"{} iter. loss: {}\".format(i, loss))"
   ]
  },
  {
   "cell_type": "code",
   "execution_count": null,
   "id": "0739346a-39ca-462a-9b08-0c1256f908f2",
   "metadata": {},
   "outputs": [],
   "source": []
  }
 ],
 "metadata": {
  "kernelspec": {
   "display_name": "Python 3 (ipykernel)",
   "language": "python",
   "name": "python3"
  },
  "language_info": {
   "codemirror_mode": {
    "name": "ipython",
    "version": 3
   },
   "file_extension": ".py",
   "mimetype": "text/x-python",
   "name": "python",
   "nbconvert_exporter": "python",
   "pygments_lexer": "ipython3",
   "version": "3.11.5"
  }
 },
 "nbformat": 4,
 "nbformat_minor": 5
}
