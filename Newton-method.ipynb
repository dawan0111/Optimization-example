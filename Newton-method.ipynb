{
 "cells": [
  {
   "cell_type": "markdown",
   "id": "5a772ffe-1831-4a0f-8537-ed9fc383c250",
   "metadata": {},
   "source": [
    "# Newton method"
   ]
  },
  {
   "cell_type": "code",
   "execution_count": 21,
   "id": "97e11990-c939-409d-88ba-f60b0723615c",
   "metadata": {},
   "outputs": [],
   "source": [
    "import numpy as np"
   ]
  },
  {
   "cell_type": "code",
   "execution_count": 41,
   "id": "ac6a1fa8-c8d2-45a8-b6b1-a214f826cb3c",
   "metadata": {},
   "outputs": [],
   "source": [
    "A = np.array([1, 2, 3, 1]).reshape(2, 2)\n",
    "x = np.array([3, 5]).reshape(2, 1)\n",
    "n = 2 + np.random.rand(2,1) * 3\n",
    "z = A @ x + n\n",
    "\n",
    "iter = 100"
   ]
  },
  {
   "cell_type": "markdown",
   "id": "c20896af-b5c0-48ab-aa0d-443a0d0a967d",
   "metadata": {},
   "source": [
    "## Set objective function"
   ]
  },
  {
   "cell_type": "code",
   "execution_count": 42,
   "id": "f8f540d1-27bc-4e02-8701-9d9fb991ef14",
   "metadata": {},
   "outputs": [],
   "source": [
    "def objective_function(x):\n",
    "    loss = (z - A @ x)\n",
    "    return loss.transpose() @ loss\n",
    "\n",
    "def gradient_objective_function(x):\n",
    "    return -2 * ((z - A @ x).transpose() @ A).transpose()\n",
    "\n",
    "def hassian_objective_function(x):\n",
    "    return 2 * A.transpose() @ A"
   ]
  },
  {
   "cell_type": "markdown",
   "id": "ddbb989c-57d2-4dce-bdb6-dae632d247be",
   "metadata": {},
   "source": [
    "## Training"
   ]
  },
  {
   "cell_type": "code",
   "execution_count": 43,
   "id": "04b6116c-bdf3-4574-b534-7f2cf04ab571",
   "metadata": {},
   "outputs": [
    {
     "name": "stdout",
     "output_type": "stream",
     "text": [
      "before loss: [[21.44714678]]\n",
      "99 iter. loss: [[16.94339893]\n",
      " [16.42832281]], x: [[20.88679786]\n",
      " [18.85664561]]\n"
     ]
    }
   ],
   "source": [
    "x_ = x.copy()\n",
    "loss = objective_function(x_)\n",
    "print(\"before loss: {}\".format(loss))\n",
    "\n",
    "for i in range(iter):\n",
    "    H = hassian_objective_function(x_)\n",
    "    H_inv = np.linalg.inv(H)\n",
    "    x_ = x_ - H_inv @ gradient_objective_function(x_)\n",
    "    loss = objective_function(x_)\n",
    "    \n",
    "print(\"{} iter. loss: {}, x: {}\".format(i, z, A @ x_ + n))"
   ]
  },
  {
   "cell_type": "code",
   "execution_count": null,
   "id": "3f3d8d08-3293-4335-8ce4-067aff70a71d",
   "metadata": {},
   "outputs": [],
   "source": []
  }
 ],
 "metadata": {
  "kernelspec": {
   "display_name": "Python 3 (ipykernel)",
   "language": "python",
   "name": "python3"
  },
  "language_info": {
   "codemirror_mode": {
    "name": "ipython",
    "version": 3
   },
   "file_extension": ".py",
   "mimetype": "text/x-python",
   "name": "python",
   "nbconvert_exporter": "python",
   "pygments_lexer": "ipython3",
   "version": "3.11.5"
  }
 },
 "nbformat": 4,
 "nbformat_minor": 5
}
