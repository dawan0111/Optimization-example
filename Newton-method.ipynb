{
 "cells": [
  {
   "cell_type": "markdown",
   "id": "5a772ffe-1831-4a0f-8537-ed9fc383c250",
   "metadata": {},
   "source": [
    "# Newton method"
   ]
  },
  {
   "cell_type": "code",
   "execution_count": 21,
   "id": "97e11990-c939-409d-88ba-f60b0723615c",
   "metadata": {},
   "outputs": [],
   "source": [
    "import numpy as np"
   ]
  },
  {
   "cell_type": "code",
   "execution_count": 41,
   "id": "ac6a1fa8-c8d2-45a8-b6b1-a214f826cb3c",
   "metadata": {},
   "outputs": [],
   "source": [
    "A = np.array([1, 2, 3, 1]).reshape(2, 2)\n",
    "x = np.array([3, 5]).reshape(2, 1)\n",
    "n = 2 + np.random.rand(2,1) * 3\n",
    "z = A @ x + n\n",
    "\n",
    "iter = 100"
   ]
  },
  {
   "cell_type": "markdown",
   "id": "c20896af-b5c0-48ab-aa0d-443a0d0a967d",
   "metadata": {},
   "source": [
    "## Set objective function"
   ]
  },
  {
   "cell_type": "code",
   "execution_count": 42,
   "id": "f8f540d1-27bc-4e02-8701-9d9fb991ef14",
   "metadata": {},
   "outputs": [],
   "source": [
    "def objective_function(x):\n",
    "    loss = (z - A @ x)\n",
    "    return loss.transpose() @ loss\n",
    "\n",
    "def gradient_objective_function(x):\n",
    "    return -2 * ((z - A @ x).transpose() @ A).transpose()\n",
    "\n",
    "def hassian_objective_function(x):\n",
    "    return 2 * A.transpose() @ A"
   ]
  },
  {
   "cell_type": "markdown",
   "id": "ddbb989c-57d2-4dce-bdb6-dae632d247be",
   "metadata": {},
   "source": [
    "## Training"
   ]
  },
  {
   "cell_type": "code",
   "execution_count": 46,
   "id": "04b6116c-bdf3-4574-b534-7f2cf04ab571",
   "metadata": {},
   "outputs": [
    {
     "name": "stdout",
     "output_type": "stream",
     "text": [
      "before loss: [[21.44714678]]\n",
      "99 iter. loss: [[1.26217745e-29]], x: [[16.94339893]\n",
      " [16.42832281]]\n"
     ]
    }
   ],
   "source": [
    "x_ = x.copy()\n",
    "loss = objective_function(x_)\n",
    "print(\"before loss: {}\".format(loss))\n",
    "\n",
    "for i in range(iter):\n",
    "    H = hassian_objective_function(x_)\n",
    "    H_inv = np.linalg.inv(H)\n",
    "    x_ = x_ - H_inv @ gradient_objective_function(x_)\n",
    "    loss = objective_function(x_)\n",
    "    \n",
    "print(\"{} iter. loss: {}, x: {}\".format(i, loss, A @ x_))"
   ]
  },
  {
   "cell_type": "markdown",
   "id": "bd665524-02f9-4607-a0ec-e3f2be8d0c0f",
   "metadata": {},
   "source": [
    "# Least-square solution"
   ]
  },
  {
   "cell_type": "code",
   "execution_count": null,
   "id": "b010d58a-7ad9-408b-aaca-e2b478009de8",
   "metadata": {},
   "outputs": [],
   "source": [
    "x_ = x.copy()\n",
    "loss = objective_function(x_)\n",
    "print(\"before loss: {}\".format(loss))\n",
    "\n",
    "x_ = np.linalg.inv((A.transpose() @ A)) @ A.tra"
   ]
  }
 ],
 "metadata": {
  "kernelspec": {
   "display_name": "Python 3 (ipykernel)",
   "language": "python",
   "name": "python3"
  },
  "language_info": {
   "codemirror_mode": {
    "name": "ipython",
    "version": 3
   },
   "file_extension": ".py",
   "mimetype": "text/x-python",
   "name": "python",
   "nbconvert_exporter": "python",
   "pygments_lexer": "ipython3",
   "version": "3.11.5"
  }
 },
 "nbformat": 4,
 "nbformat_minor": 5
}
